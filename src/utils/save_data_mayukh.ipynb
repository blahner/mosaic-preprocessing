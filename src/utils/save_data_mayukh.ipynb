{
 "cells": [
  {
   "cell_type": "code",
   "execution_count": 1,
   "metadata": {},
   "outputs": [
    {
     "name": "stderr",
     "output_type": "stream",
     "text": [
      "pixdim[1,2,3] should be non-zero; setting 0 dims to 1\n"
     ]
    }
   ],
   "source": [
    "from dotenv import load_dotenv\n",
    "load_dotenv()\n",
    "import os\n",
    "import sys\n",
    "sys.path.append(os.getenv('PYTHONPATH'))\n",
    "import numpy as np\n",
    "import matplotlib.pyplot as plt\n",
    "import torch\n",
    "\n",
    "import pickle\n",
    "import hcp_utils as hcp\n",
    "from nilearn import plotting\n",
    "import json\n",
    "import pandas as pd\n",
    "import seaborn as sns\n",
    "from pathlib import Path\n",
    "from tqdm import tqdm\n",
    "from collections import defaultdict\n",
    "from torchvision.transforms import v2\n",
    "\n",
    "#local imports\n",
    "from src.utils.transforms import SelectROIs, ToTensorfMRI\n",
    "from src.utils.helpers import FilterDataset, vectorized_correlation\n",
    "from src.utils.dataset import FMRIDataset"
   ]
  },
  {
   "cell_type": "code",
   "execution_count": 8,
   "metadata": {},
   "outputs": [
    {
     "name": "stderr",
     "output_type": "stream",
     "text": [
      "/data/vision/oliva/blahner/anaconda3/envs/MOSAIC/lib/python3.11/site-packages/torchvision/transforms/v2/_deprecated.py:42: UserWarning: The transform `ToTensor()` is deprecated and will be removed in a future release. Instead, please use `v2.Compose([v2.ToImage(), v2.ToDtype(torch.float32, scale=True)])`.Output is equivalent up to float precision.\n",
      "  warnings.warn(\n"
     ]
    }
   ],
   "source": [
    "project_root = os.getenv(\"PROJECT_ROOT\", \"/default/path/to/datasets\") #use default if DATASETS_ROOT env variable is not set.\n",
    "dataset_root = os.path.join(os.getenv(\"DATASETS_ROOT\", \"/default/path/to/datasets\"), \"MOSAIC\") #use default if DATASETS_ROOT env variable is not set.\n",
    "\n",
    "rois = [f\"GlasserGroup_{x}\" for x in range(1,6)]\n",
    "ROI_selection = SelectROIs(selected_rois=rois)\n",
    "#NSDsubjects = [f\"sub-{x:02}_NSD\" for x in range(1,9)]\n",
    "subjectID = 'sub-01_NSD'\n",
    "img_tsfm = v2.Compose([v2.ToImage(),\n",
    "                       v2.ToTensor(),\n",
    "                       v2.ToDtype(torch.float32, scale=True)\n",
    "                       ])\n",
    "fmri_tsfm = v2.Compose([ToTensorfMRI(dtype='float32')])\n",
    "#dataset = FMRIDataset(None, ROI_selection, use_noiseceiling=True, trial_selection='average', fmri_transforms=fmri_tsfm, img_transforms=img_tsfm)\n",
    "save_root = os.path.join(project_root, \"src\", \"utils\", \"output\", \"data_tmp\")\n",
    "if not os.path.exists(save_root):\n",
    "    os.makedirs(save_root)\n"
   ]
  },
  {
   "cell_type": "code",
   "execution_count": 9,
   "metadata": {},
   "outputs": [],
   "source": [
    "#sample = dataset.load_responses_block_hdf5(subjectID, verbose=True, load_stimulus=True)"
   ]
  },
  {
   "cell_type": "code",
   "execution_count": 15,
   "metadata": {},
   "outputs": [],
   "source": [
    "with open(os.path.join(dataset_root, 'train_naturalistic.json'), 'r') as f:\n",
    "    train_val_naturalistic_all = json.load(f)\n",
    "with open(os.path.join(dataset_root, 'test_naturalistic.json'), 'r') as f:\n",
    "    test_naturalistic_all = json.load(f)\n",
    "with open(os.path.join(dataset_root, 'test_artificial.json'), 'r') as f:\n",
    "    test_artificial_all = json.load(f)\n",
    "\n",
    "dataset_preprocessing_train_val_naturalistic = FilterDataset(subject_include=[subjectID],\n",
    "                                                dataset_include=None,\n",
    "                                                use_noiseceiling=True)\n",
    "\n",
    "dataset_preprocessing_test_naturalistic = FilterDataset(subject_include=[subjectID],\n",
    "                                                dataset_include=None,\n",
    "                                                use_noiseceiling=True)\n",
    "\n",
    "dataset_preprocessing_test_artificial = FilterDataset(subject_include=[subjectID],\n",
    "                                                dataset_include=None,\n",
    "                                                use_noiseceiling=True)\n",
    "\n",
    "train_val_naturalistic, subjectID_mapping_train_val_naturalistic = dataset_preprocessing_train_val_naturalistic.filter_splits(train_val_naturalistic_all)\n",
    "test_naturalistic, subjectID_mapping_test_naturalistic = dataset_preprocessing_test_naturalistic.filter_splits(test_naturalistic_all)\n",
    "test_artificial, subjectID_mapping_test_artificial = dataset_preprocessing_test_artificial.filter_splits(test_artificial_all)\n",
    "assert len(set(subjectID_mapping_train_val_naturalistic.keys()) - set(subjectID_mapping_test_naturalistic.keys())) == 0, f\"Trainng and testing subject filters should return the same set of subjects\"\n",
    "\n",
    "training_subjects = sorted(list(subjectID_mapping_train_val_naturalistic.keys()),key=lambda x: (x.split('_')[1], int(x.split('_')[0].split('-')[-1])))\n",
    "\n",
    "dataset_train_val_naturalistic = FMRIDataset(train_val_naturalistic, ROI_selection, use_noiseceiling=False, trial_selection='average', img_transforms=img_tsfm, fmri_transforms=fmri_tsfm)\n",
    "dataset_test_naturalistic = FMRIDataset(test_naturalistic, ROI_selection, use_noiseceiling=False, trial_selection='average', img_transforms=img_tsfm, fmri_transforms=fmri_tsfm)\n",
    "dataset_test_artificial = FMRIDataset(test_artificial, ROI_selection, use_noiseceiling=False, trial_selection='average', img_transforms=img_tsfm, fmri_transforms=fmri_tsfm)\n"
   ]
  },
  {
   "cell_type": "code",
   "execution_count": 16,
   "metadata": {},
   "outputs": [
    {
     "name": "stderr",
     "output_type": "stream",
     "text": [
      "100%|██████████| 8954/8954 [11:29<00:00, 12.99it/s]\n",
      "100%|██████████| 1000/1000 [01:20<00:00, 12.49it/s]\n",
      "100%|██████████| 284/284 [00:15<00:00, 18.13it/s]\n"
     ]
    }
   ],
   "source": [
    "subDict = {'fmri_train_naturalistic': [],\n",
    "           'fmri_test_naturalistic': [],\n",
    "           'fmri_test_artificial': [],\n",
    "           'stimulus_train_naturalistic': [],\n",
    "           'stimulus_test_naturalistic': [],\n",
    "           'stimulus_test_artificial': [],\n",
    "           'noiseceilings': dataset_train_val_naturalistic.subject_noiseceilings[subjectID], #doesnt matter which dataset class we use here.\n",
    "           'subjectID': []}\n",
    "\n",
    "for idx in tqdm(range(len(dataset_train_val_naturalistic)), total=len(dataset_train_val_naturalistic)):\n",
    "    sample = dataset_train_val_naturalistic[idx]\n",
    "    subDict['fmri_train_naturalistic'].append(sample['fmri'])\n",
    "    subDict['stimulus_train_naturalistic'].append(sample['stimulus'])\n",
    "    subDict['subjectID'].append(subjectID)\n",
    "\n",
    "for idx in tqdm(range(len(dataset_test_naturalistic)), total=len(dataset_test_naturalistic)):\n",
    "    sample = dataset_test_naturalistic[idx]\n",
    "    subDict['fmri_test_naturalistic'].append(sample['fmri'])\n",
    "    subDict['stimulus_test_naturalistic'].append(sample['stimulus'])\n",
    "    subDict['subjectID'].append(subjectID)\n",
    "\n",
    "for idx in tqdm(range(len(dataset_test_artificial)), total=len(dataset_test_artificial)):\n",
    "    sample = dataset_test_artificial[idx]\n",
    "    subDict['fmri_test_artificial'].append(sample['fmri'])\n",
    "    subDict['stimulus_test_artificial'].append(sample['stimulus'])\n",
    "    subDict['subjectID'].append(subjectID)\n"
   ]
  },
  {
   "cell_type": "code",
   "execution_count": 17,
   "metadata": {},
   "outputs": [],
   "source": [
    "# {image: Tensor, fmri: Tensor(float32), ID: str} per subject\n",
    "\n",
    "#torch.save\n",
    "\n",
    "#subDict = {'image': sample['stimulus'], 'fmri': sample['fmri'], 'subjectID': sample['subjectID']}\n",
    "torch.save(subDict, os.path.join(save_root, f\"{subjectID}_rois-GG1_5.pth\"))\n"
   ]
  },
  {
   "cell_type": "code",
   "execution_count": null,
   "metadata": {},
   "outputs": [],
   "source": []
  }
 ],
 "metadata": {
  "kernelspec": {
   "display_name": "MOSAIC",
   "language": "python",
   "name": "python3"
  },
  "language_info": {
   "codemirror_mode": {
    "name": "ipython",
    "version": 3
   },
   "file_extension": ".py",
   "mimetype": "text/x-python",
   "name": "python",
   "nbconvert_exporter": "python",
   "pygments_lexer": "ipython3",
   "version": "3.11.10"
  }
 },
 "nbformat": 4,
 "nbformat_minor": 2
}
