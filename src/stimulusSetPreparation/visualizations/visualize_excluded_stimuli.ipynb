{
 "cells": [
  {
   "cell_type": "code",
   "execution_count": null,
   "metadata": {},
   "outputs": [],
   "source": [
    "from dotenv import load_dotenv\n",
    "load_dotenv()\n",
    "import os\n",
    "import sys\n",
    "sys.path.append(os.getenv('PYTHONPATH')) \n",
    "import pickle\n",
    "import pandas as pd\n",
    "import matplotlib.pyplot as plt\n",
    "from PIL import Image\n",
    "from itertools import islice\n",
    "from pathlib import Path\n",
    "import glob"
   ]
  },
  {
   "cell_type": "code",
   "execution_count": null,
   "metadata": {},
   "outputs": [],
   "source": [
    "def visualize_similar_images(image_data, stiminfo, stim_path='./'):\n",
    "    \"\"\"\n",
    "    Visualize similar images in rows. Each row represents one test image\n",
    "    and its corresponding similar images.\n",
    "    \n",
    "    Parameters:\n",
    "    image_data (list): A list of dictionaries where the key is the test image filename,\n",
    "                       and the values are a list of similar image filenames.\n",
    "    \"\"\"\n",
    "    repetition_columns = [col for col in stiminfo.columns if f'_reps_' in col]\n",
    "    fs=10 #fontsize for titless\n",
    "    # Number of test images to visualize\n",
    "    num_rows = len(image_data)\n",
    "    \n",
    "    # Determine the maximum number of similar images to set plot columns\n",
    "    max_similar_images = max(len(images) for images in image_data.values())\n",
    "    \n",
    "    fig, axes = plt.subplots(num_rows, max_similar_images + 1, figsize=(15, 3 * num_rows))\n",
    "    #plt.subplots_adjust(hspace=0.4, wspace=0.2)\n",
    "    # Loop through each test image and its similar images\n",
    "    for row_idx, (test_image, similar_images) in enumerate(image_data.items()):\n",
    "        stim_info = stiminfo[stiminfo['filename'] == test_image]\n",
    "        seen_by = []\n",
    "        for col in repetition_columns:\n",
    "            if stim_info[col].array[0] > 0:\n",
    "                seen_by.append(col.replace('_reps', ''))\n",
    "            # Load and plot the test image\n",
    "        if Path(test_image).suffix == '.mp4':\n",
    "            #find the corresponding middle frame to the video\n",
    "            middle_frame = glob.glob(os.path.join(stim_path, \"frames_middle\", f\"{Path(test_image).stem}*.jpg\"))\n",
    "            assert(len(middle_frame) == 1)\n",
    "            test_img = Image.open(middle_frame[0])\n",
    "        else:\n",
    "            test_img = Image.open(os.path.join(stim_path, \"raw\", test_image))\n",
    "        axes[row_idx, 0].imshow(test_img)\n",
    "        axes[row_idx, 0].set_title(f\"Test Image\\n{test_image}\", fontsize=fs) #(f\"Test Image {seen_by}\")\n",
    "        axes[row_idx, 0].axis(\"off\")\n",
    "        \n",
    "        # Load and plot each similar image in the row\n",
    "        for col_idx, sim_image in enumerate(similar_images, start=1):\n",
    "            stim_info = stiminfo[stiminfo['filename'] == sim_image]\n",
    "            seen_by = []\n",
    "            for col in repetition_columns:\n",
    "                if stim_info[col].array[0] > 0:\n",
    "                    seen_by.append(col.replace('_reps', ''))\n",
    "            if Path(sim_image).suffix == '.mp4':\n",
    "                #find the corresponding middle frame to the video\n",
    "                middle_frame = glob.glob(os.path.join(stim_path, \"frames_middle\", f\"{Path(sim_image).stem}*.jpg\"))\n",
    "                assert(len(middle_frame) == 1)\n",
    "                sim_img = Image.open(middle_frame[0])\n",
    "            else:\n",
    "                sim_img = Image.open(os.path.join(stim_path, \"raw\", sim_image))\n",
    "            axes[row_idx, col_idx].imshow(sim_img)\n",
    "            axes[row_idx, col_idx].set_title(f\"Similar Train\\n{sim_image}\", fontsize=fs) #(f\"Similar Train {seen_by}\")\n",
    "            axes[row_idx, col_idx].axis(\"off\")\n",
    "        \n",
    "        # Hide any unused subplots\n",
    "        for extra_col in range(len(similar_images) + 1, max_similar_images + 1):\n",
    "            axes[row_idx, extra_col].axis(\"off\")\n",
    "    \n",
    "    plt.tight_layout()\n",
    "    plt.show()\n",
    "\n",
    "def retrieve_image(filename, stim_path='./'):\n",
    "    if Path(filename).suffix == '.mp4':\n",
    "        #find the corresponding middle frame to the video\n",
    "        middle_frame = glob.glob(os.path.join(stim_path, \"frames_middle\", f\"{Path(filename).stem}*.jpg\"))\n",
    "        assert(len(middle_frame) == 1)\n",
    "        test_img = Image.open(middle_frame[0])\n",
    "    else:\n",
    "        test_img = Image.open(os.path.join(stim_path, \"raw\", filename))\n",
    "    plt.imshow(test_img)\n",
    "    plt.axis(\"off\")\n",
    "    plt.show()"
   ]
  },
  {
   "cell_type": "code",
   "execution_count": null,
   "metadata": {},
   "outputs": [],
   "source": [
    "dataset_root =  os.path.join(os.getenv(\"DATASETS_ROOT\", \"/default/path/to/datasets\"))\n",
    "save_root = os.path.join(dataset_root, \"MOSAIC\")\n",
    "with open(os.path.join(save_root, 'perceptually_similar_exclusions.pkl'), 'rb') as f:\n",
    "    excluded_stim = pickle.load(f)\n",
    "compiled_stiminfo = pd.read_table(os.path.join(save_root, \"stimuli\", \"datasets_stiminfo\", \"compiled_dataset_stiminfo.tsv\"), low_memory=False)\n",
    "datasets = ['NSD','BMD','BOLD5000','THINGS','GOD','deeprecon','HAD','NOD']"
   ]
  },
  {
   "cell_type": "code",
   "execution_count": null,
   "metadata": {},
   "outputs": [],
   "source": [
    "count = 0\n",
    "for k, v in excluded_stim.items():\n",
    "    count += len(v)\n",
    "print(f\"{count} stimuli were removed because of high similarity to one of {len(excluded_stim)} test stimulus.\")\n"
   ]
  },
  {
   "cell_type": "code",
   "execution_count": null,
   "metadata": {},
   "outputs": [],
   "source": [
    "sliced_data = dict(islice(excluded_stim.items(), 50))\n",
    "print(sliced_data)\n",
    "data = {}\n",
    "for k,v in sliced_data.items():\n",
    "    data[k] = v[:15]\n",
    "    print(k, v)"
   ]
  },
  {
   "cell_type": "code",
   "execution_count": null,
   "metadata": {},
   "outputs": [],
   "source": [
    "#given a test image (a dictionary key) display it and all the similar ones\n",
    "test_img = '000000112734.jpg'\n",
    "retrieve_image(test_img, stim_path=os.path.join(save_root, 'stimuli'))\n",
    "for img in data['000000112734.jpg']:\n",
    "    retrieve_image(img, stim_path=os.path.join(save_root, 'stimuli'))"
   ]
  },
  {
   "cell_type": "code",
   "execution_count": null,
   "metadata": {},
   "outputs": [],
   "source": [
    "#retrieve a single image\n",
    "retrieve_image('000000021718.jpg', stim_path=os.path.join(save_root, 'stimuli'))"
   ]
  },
  {
   "cell_type": "code",
   "execution_count": null,
   "metadata": {},
   "outputs": [],
   "source": [
    "visualize_similar_images(data, compiled_stiminfo, stim_path=os.path.join(save_root, 'stimuli'))"
   ]
  }
 ],
 "metadata": {
  "kernelspec": {
   "display_name": "MOSAIC",
   "language": "python",
   "name": "python3"
  },
  "language_info": {
   "codemirror_mode": {
    "name": "ipython",
    "version": 3
   },
   "file_extension": ".py",
   "mimetype": "text/x-python",
   "name": "python",
   "nbconvert_exporter": "python",
   "pygments_lexer": "ipython3",
   "version": "3.11.10"
  }
 },
 "nbformat": 4,
 "nbformat_minor": 2
}
