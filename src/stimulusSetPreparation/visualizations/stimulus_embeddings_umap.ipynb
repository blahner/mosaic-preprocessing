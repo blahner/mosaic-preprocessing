{
 "cells": [
  {
   "cell_type": "markdown",
   "metadata": {},
   "source": [
    "### Visualize stimulus embeddings from multiple datasets to examine their diversity/clustering and test/train differences\n",
    "outdated. load stimuli from the shared/compiled stimulus folder and use the test/train split defined in either the compiled train/test jsons or each fmri datasets stiminfo.tsv file"
   ]
  },
  {
   "cell_type": "code",
   "execution_count": null,
   "metadata": {},
   "outputs": [],
   "source": [
    "from dotenv import load_dotenv\n",
    "load_dotenv()\n",
    "import os\n",
    "import numpy as np\n",
    "import sys\n",
    "sys.path.append(os.getenv('PYTHONPATH')) \n",
    "import glob\n",
    "import pandas as pd\n",
    "import umap.umap_ as umap\n",
    "import matplotlib.pyplot as plt\n",
    "import seaborn as sns\n",
    "from pathlib import Path\n",
    "from sklearn.preprocessing import StandardScaler"
   ]
  },
  {
   "cell_type": "code",
   "execution_count": null,
   "metadata": {},
   "outputs": [],
   "source": [
    "#housekeeping\n",
    "dataset_root = os.path.join(os.getenv('DATASETS_ROOT'))\n",
    "video_embedding_model = \"microsoft_xclip-large-patch14\"\n",
    "image_embedding_model = \"openai_clip-vit-large-patch14\"\n",
    "cols = ['embeddings','label','stimulus_id', 'dataset_id']\n",
    "all_data = {col: [] for col in cols}"
   ]
  },
  {
   "cell_type": "code",
   "execution_count": 15,
   "metadata": {},
   "outputs": [],
   "source": [
    "### load BMD data\n",
    "embedding_paths = glob.glob(os.path.join(dataset_root, \"BOLDMomentsDataset\",\"derivatives\",\"stimuli_metadata\",f\"{video_embedding_model}_embeddings\",\"*.npy\"))\n",
    "for stim_embedding in embedding_paths:\n",
    "    filename = Path(stim_embedding).stem\n",
    "    stimulus_name = filename.split(f\"_model-{video_embedding_model}\")[0]\n",
    "    all_data['stimulus_id'].append(stimulus_name)\n",
    "    if int(stimulus_name) > 1000:\n",
    "        all_data['label'].append('testing')\n",
    "    else:\n",
    "        all_data['label'].append('training')\n",
    "    all_data['embeddings'].append(np.load(stim_embedding)[0])\n",
    "    all_data['dataset_id'].append(\"BMD\")"
   ]
  },
  {
   "cell_type": "code",
   "execution_count": 16,
   "metadata": {},
   "outputs": [],
   "source": [
    "### load HAD data\n",
    "embedding_paths = glob.glob(os.path.join(dataset_root, \"HumanActionsDataset\",\"derivatives\",\"stimuli_metadata\",f\"{video_embedding_model}_embeddings\",\"*.npy\"))\n",
    "for stim_embedding in embedding_paths:\n",
    "    filename = Path(stim_embedding).stem\n",
    "    stimulus_name = filename.split(f\"_model-{video_embedding_model}\")[0]\n",
    "    all_data['stimulus_id'].append(stimulus_name)\n",
    "    all_data['label'].append('training') #all HAD were used for training\n",
    "    all_data['embeddings'].append(np.load(stim_embedding)[0])\n",
    "    all_data['dataset_id'].append(\"HAD\")"
   ]
  },
  {
   "cell_type": "code",
   "execution_count": 22,
   "metadata": {},
   "outputs": [],
   "source": [
    "### load CC2017 data\n",
    "embedding_paths = glob.glob(os.path.join(dataset_root, \"CC2017\",\"video_fmri_dataset\",\"stimuli_metadata\",\"clipped_2s\", f\"{video_embedding_model}_embeddings\",\"*.npy\"))\n",
    "for stim_embedding in embedding_paths:\n",
    "    filename = Path(stim_embedding).stem\n",
    "    stimulus_name = filename.split(f\"_model-{video_embedding_model}\")[0]\n",
    "    all_data['stimulus_id'].append(stimulus_name)\n",
    "    if 'test' in stimulus_name:\n",
    "        all_data['label'].append('testing')\n",
    "    elif 'seg' in stimulus_name:\n",
    "        all_data['label'].append('training')\n",
    "    else:\n",
    "        raise ValueError(\"Invalid stimulus name\")\n",
    "    all_data['embeddings'].append(np.load(stim_embedding)[0])\n",
    "    all_data['dataset_id'].append(\"CC2017\")"
   ]
  },
  {
   "cell_type": "code",
   "execution_count": 32,
   "metadata": {},
   "outputs": [],
   "source": [
    "### load NSD data\n",
    "embedding_paths = glob.glob(os.path.join(dataset_root, \"NaturalScenesDataset\",\"derivatives\",\"stimuli_metadata\", f\"{image_embedding_model}_embeddings\",\"*.npy\"))\n",
    "for stim_embedding in embedding_paths:\n",
    "    filename = Path(stim_embedding).stem\n",
    "    stimulus_name = filename.split(f\"_model-{image_embedding_model}\")[0]\n",
    "    all_data['stimulus_id'].append(stimulus_name)\n",
    "    \n",
    "    all_data['label'].append('training') #TODO separate training and testing images\n",
    "\n",
    "    all_data['embeddings'].append(np.load(stim_embedding)[0])\n",
    "    all_data['dataset_id'].append(\"NSD\")"
   ]
  },
  {
   "cell_type": "code",
   "execution_count": 3,
   "metadata": {},
   "outputs": [],
   "source": [
    "### load GOD data\n",
    "embedding_paths = glob.glob(os.path.join(dataset_root, \"GenericObjectDecoding\",\"derivatives\",\"stimuli_metadata\", f\"{image_embedding_model}_embeddings\",\"*.npy\"))\n",
    "for stim_embedding in embedding_paths:\n",
    "    filename = Path(stim_embedding).stem\n",
    "    stimulus_name = filename.split(f\"_model-{image_embedding_model}\")[0]\n",
    "    all_data['stimulus_id'].append(stimulus_name)\n",
    "    \n",
    "    all_data['label'].append('training') #TODO separate training and testing images\n",
    "\n",
    "    all_data['embeddings'].append(np.load(stim_embedding)[0])\n",
    "    all_data['dataset_id'].append(\"GOD\")"
   ]
  },
  {
   "cell_type": "code",
   "execution_count": 9,
   "metadata": {},
   "outputs": [],
   "source": [
    "### load deeprecon data\n",
    "embedding_paths = glob.glob(os.path.join(dataset_root, \"deeprecon\",\"derivatives\",\"stimuli_metadata\", f\"{image_embedding_model}_embeddings\",\"*.npy\"))\n",
    "for stim_embedding in embedding_paths:\n",
    "    filename = Path(stim_embedding).stem\n",
    "    stimulus_name = filename.split(f\"_model-{image_embedding_model}\")[0]\n",
    "    all_data['stimulus_id'].append(stimulus_name)\n",
    "    \n",
    "    all_data['label'].append('training') #TODO separate training and testing images\n",
    "\n",
    "    all_data['embeddings'].append(np.load(stim_embedding)[0])\n",
    "    if 'colorExpStim' in stimulus_name:\n",
    "        all_data['dataset_id'].append(\"deeprecon-shape\")\n",
    "    elif 'letter_' in stimulus_name:\n",
    "        all_data['dataset_id'].append(\"deeprecon-letter\")\n",
    "    else:\n",
    "        all_data['dataset_id'].append('deeprecon-naturalimages')"
   ]
  },
  {
   "cell_type": "code",
   "execution_count": 15,
   "metadata": {},
   "outputs": [],
   "source": [
    "### load BOLD5000 data\n",
    "embedding_paths = glob.glob(os.path.join(dataset_root, \"BOLD5000\",\"derivatives\",\"stimuli_metadata\", f\"{image_embedding_model}_embeddings\",\"*.npy\"))\n",
    "for stim_embedding in embedding_paths:\n",
    "    filename = Path(stim_embedding).stem\n",
    "    stimulus_name = filename.split(f\"_model-{image_embedding_model}\")[0]\n",
    "    all_data['stimulus_id'].append(stimulus_name)\n",
    "    \n",
    "    all_data['label'].append('training') #TODO separate training and testing images\n",
    "    all_data['embeddings'].append(np.load(stim_embedding)[0])\n",
    "    all_data['dataset_id'].append('BOLD5000')"
   ]
  },
  {
   "cell_type": "code",
   "execution_count": 27,
   "metadata": {},
   "outputs": [],
   "source": [
    "### load NOD data\n",
    "embedding_paths = glob.glob(os.path.join(dataset_root, \"NaturalObjectDataset\",\"derivatives\",\"stimuli_metadata\", f\"{image_embedding_model}_embeddings\",\"*.npy\"))\n",
    "for stim_embedding in embedding_paths:\n",
    "    filename = Path(stim_embedding).stem\n",
    "    stimulus_name = filename.split(f\"_model-{image_embedding_model}\")[0]\n",
    "    all_data['stimulus_id'].append(stimulus_name)\n",
    "    \n",
    "    all_data['label'].append('training') #TODO separate training and testing images\n",
    "\n",
    "    all_data['embeddings'].append(np.load(stim_embedding)[0])\n",
    "    if stimulus_name[0] == 'n':\n",
    "        all_data['dataset_id'].append(\"NOD-imagenet\")\n",
    "    else:\n",
    "        all_data['dataset_id'].append(\"NOD-coco\")\n"
   ]
  },
  {
   "cell_type": "code",
   "execution_count": 21,
   "metadata": {},
   "outputs": [],
   "source": [
    "### load THINGS_fmri data\n",
    "embedding_paths = glob.glob(os.path.join(dataset_root, \"THINGS_fmri\",\"derivatives\",\"stimuli_metadata\", f\"{image_embedding_model}_embeddings\",\"*.npy\"))\n",
    "for stim_embedding in embedding_paths:\n",
    "    filename = Path(stim_embedding).stem\n",
    "    stimulus_name = filename.split(f\"_model-{image_embedding_model}\")[0]\n",
    "    all_data['stimulus_id'].append(stimulus_name)\n",
    "    \n",
    "    all_data['label'].append('training') #TODO separate training and testing images\n",
    "\n",
    "    all_data['embeddings'].append(np.load(stim_embedding)[0])\n",
    "    #all_data['dataset_id'].append(\"THINGS\")\n",
    "    dataset_letter = stimulus_name.split('.jpg')[-1][-1]\n",
    "    if dataset_letter == 'n':\n",
    "        all_data['dataset_id'].append(\"THINGS-imagenet\")\n",
    "    elif dataset_letter == 'b':\n",
    "        all_data['dataset_id'].append(\"THINGS-behavioral\")\n",
    "    elif dataset_letter == 's':\n",
    "        all_data['dataset_id'].append(\"THINGS-googleimages\")\n",
    "    else:\n",
    "        raise ValueError(f\"dataset_letter {dataset_letter} not recognized\")\n"
   ]
  },
  {
   "cell_type": "code",
   "execution_count": null,
   "metadata": {},
   "outputs": [],
   "source": [
    "df = pd.DataFrame(all_data)\n",
    "X = np.vstack(df['embeddings'].to_numpy())\n",
    "print(X.shape)"
   ]
  },
  {
   "cell_type": "code",
   "execution_count": 34,
   "metadata": {},
   "outputs": [],
   "source": [
    "X_scaled = StandardScaler().fit_transform(X)"
   ]
  },
  {
   "cell_type": "code",
   "execution_count": null,
   "metadata": {},
   "outputs": [],
   "source": [
    "# Perform UMAP dimensionality reduction\n",
    "reducer = umap.UMAP(n_neighbors=15, min_dist=0.1, n_components=2, random_state=42)\n",
    "embedding = reducer.fit_transform(X_scaled)"
   ]
  },
  {
   "cell_type": "code",
   "execution_count": null,
   "metadata": {},
   "outputs": [],
   "source": [
    "# Add UMAP projections to DataFrame\n",
    "df['UMAP1'] = embedding[:, 0]\n",
    "df['UMAP2'] = embedding[:, 1]\n",
    "\n",
    "# Plotting\n",
    "plt.figure(figsize=(10, 8))\n",
    "sns.scatterplot(data=df, x='UMAP1', y='UMAP2', hue='dataset_id', style='label', palette='tab10', s=10, alpha=0.6)\n",
    "\n",
    "plt.title('UMAP Projection')\n",
    "plt.show()"
   ]
  },
  {
   "cell_type": "code",
   "execution_count": null,
   "metadata": {},
   "outputs": [],
   "source": []
  }
 ],
 "metadata": {
  "kernelspec": {
   "display_name": "NeuroAI",
   "language": "python",
   "name": "python3"
  },
  "language_info": {
   "codemirror_mode": {
    "name": "ipython",
    "version": 3
   },
   "file_extension": ".py",
   "mimetype": "text/x-python",
   "name": "python",
   "nbconvert_exporter": "python",
   "pygments_lexer": "ipython3",
   "version": "3.10.13"
  }
 },
 "nbformat": 4,
 "nbformat_minor": 2
}
