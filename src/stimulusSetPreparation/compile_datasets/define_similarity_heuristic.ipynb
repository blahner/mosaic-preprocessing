{
 "cells": [
  {
   "cell_type": "code",
   "execution_count": 1,
   "metadata": {},
   "outputs": [],
   "source": [
    "from dotenv import load_dotenv\n",
    "load_dotenv()\n",
    "from PIL import Image\n",
    "import os\n",
    "from tqdm import tqdm\n",
    "from pathlib import Path\n",
    "import pandas as pd\n",
    "import glob\n",
    "import numpy as np\n",
    "import torch\n",
    "import seaborn as sns\n",
    "from dreamsim import dreamsim\n",
    "from sklearn.metrics.pairwise import cosine_similarity\n",
    "import matplotlib.pyplot as plt\n",
    "import warnings\n",
    "warnings.simplefilter(action='ignore', category=FutureWarning)\n"
   ]
  },
  {
   "cell_type": "code",
   "execution_count": null,
   "metadata": {},
   "outputs": [],
   "source": [
    "dataset_root = os.getenv(\"DATASETS_ROOT\", \"/default/path/to/datasets\") #use default if DATASETS_ROOT env variable is not set.\n",
    "print(f\"dataset_root: {dataset_root}\")\n",
    "save_root = os.path.join(dataset_root, \"MOSAIC\")"
   ]
  },
  {
   "cell_type": "code",
   "execution_count": 3,
   "metadata": {},
   "outputs": [],
   "source": [
    "bmd_stiminfo = pd.read_table(os.path.join(save_root, \"stimuli\", \"datasets_stiminfo\", \"bmd_stiminfo.tsv\"))\n",
    "filenames = bmd_stiminfo['filename']"
   ]
  },
  {
   "cell_type": "code",
   "execution_count": null,
   "metadata": {},
   "outputs": [],
   "source": [
    "model_name = 'dreamsim'\n",
    "device = \"cuda\" if torch.cuda.is_available() else \"cpu\"\n",
    "print(f\"Using device: {device}\")\n",
    "model, preprocess = dreamsim(pretrained=True, cache_dir=os.path.join(os.getenv('CACHE'),\".cache\"))"
   ]
  },
  {
   "cell_type": "code",
   "execution_count": null,
   "metadata": {},
   "outputs": [],
   "source": [
    "\"\"\"\n",
    "we use the second frame and second to last frame because some videos have a black screen first or last frame from the frame conversion process\n",
    "\"\"\"\n",
    "similarity = []\n",
    "for filename in tqdm(filenames):\n",
    "    stem = Path(filename).stem\n",
    "    #load frames\n",
    "    first_frame = glob.glob(os.path.join(dataset_root, \"MOSAIC\", \"stimuli\", \"frames\", stem, f\"{stem}_frame-0002_*.jpg\"))\n",
    "    assert(len(first_frame) == 1)\n",
    "    total_frames = int(Path(first_frame[0]).stem.split('_')[-1])\n",
    "    last_frame = glob.glob(os.path.join(dataset_root, \"MOSAIC\", \"stimuli\", \"frames\", stem, f\"{stem}_frame-{total_frames-1:04}_{total_frames:04}.jpg\"))    \n",
    "    assert(len(last_frame) == 1)\n",
    "\n",
    "    #compute similarity between them\n",
    "    imgA = preprocess(Image.open(first_frame[0])).to(device)\n",
    "    imgB = preprocess(Image.open(last_frame[0])).to(device)\n",
    "    imgA_embedding = model.embed(imgA).detach().cpu().numpy()\n",
    "    imgB_embedding = model.embed(imgB).detach().cpu().numpy()\n",
    "    similarity.append(cosine_similarity(imgA_embedding, imgB_embedding)[0][0])"
   ]
  },
  {
   "cell_type": "code",
   "execution_count": null,
   "metadata": {},
   "outputs": [],
   "source": [
    "print(np.mean(similarity))"
   ]
  },
  {
   "cell_type": "code",
   "execution_count": null,
   "metadata": {},
   "outputs": [],
   "source": [
    "print(np.mean(similarity))\n",
    "sns.violinplot(np.array(similarity))\n",
    "plt.show()"
   ]
  },
  {
   "cell_type": "code",
   "execution_count": null,
   "metadata": {},
   "outputs": [],
   "source": []
  }
 ],
 "metadata": {
  "kernelspec": {
   "display_name": "MOSAIC",
   "language": "python",
   "name": "python3"
  },
  "language_info": {
   "codemirror_mode": {
    "name": "ipython",
    "version": 3
   },
   "file_extension": ".py",
   "mimetype": "text/x-python",
   "name": "python",
   "nbconvert_exporter": "python",
   "pygments_lexer": "ipython3",
   "version": "3.11.10"
  }
 },
 "nbformat": 4,
 "nbformat_minor": 2
}
