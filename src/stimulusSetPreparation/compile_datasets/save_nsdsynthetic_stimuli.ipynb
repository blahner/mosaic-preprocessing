{
 "cells": [
  {
   "cell_type": "code",
   "execution_count": null,
   "metadata": {},
   "outputs": [],
   "source": [
    "### save NSD sythetic stimuli as jpg"
   ]
  },
  {
   "cell_type": "code",
   "execution_count": 1,
   "metadata": {},
   "outputs": [],
   "source": [
    "from dotenv import load_dotenv\n",
    "load_dotenv()\n",
    "import os\n",
    "import h5py\n",
    "from PIL import Image\n",
    "import numpy as np"
   ]
  },
  {
   "cell_type": "code",
   "execution_count": 4,
   "metadata": {},
   "outputs": [],
   "source": [
    "nsd_root = os.path.join(os.getenv('DATASETS_ROOT'), 'NaturalScenesDataset', 'derivatives','stimuli_metadata')\n",
    "save_root = os.path.join(nsd_root, 'nsdsynthetic_jpg')\n",
    "if not os.path.exists(save_root):\n",
    "    os.makedirs(save_root)\n",
    "save_root_cropped = os.path.join(nsd_root, 'nsdsynthetic_cropped_jpg')\n",
    "if not os.path.exists(save_root_cropped):\n",
    "    os.makedirs(save_root_cropped)\n",
    "numsubjects=8\n",
    "start = (1360 - 714) // 2  #where to start the crop of a (714, 1360, 3) image (width, height, color)"
   ]
  },
  {
   "cell_type": "code",
   "execution_count": 5,
   "metadata": {},
   "outputs": [],
   "source": [
    "#integers 1-220 in the design tsv files correspond to nsdsynthetic_stimuli.hdf5 block and 221-284 corresond to 'nsdsynthetic_colorstimuli_subj0X.hdf5' block\n",
    "count = 0\n",
    "with h5py.File(os.path.join(nsd_root,'nsdsynthetic_stimuli.hdf5'), 'r') as file:\n",
    "    numimages = file['imgBrick'].shape[0]\n",
    "    for _ in range(numimages):\n",
    "        stim_name = f\"{count+1:03}.jpg\"\n",
    "        img = file['imgBrick'][count,:,:,:]\n",
    "        #save image\n",
    "        Image.fromarray(img.astype(np.uint8)).save(os.path.join(save_root, stim_name))\n",
    "        \n",
    "        img_cropped = img[:, start:start+714, :]  #crop to (714, 714, 3)\n",
    "        Image.fromarray(img_cropped.astype(np.uint8)).save(os.path.join(save_root_cropped, stim_name))\n",
    "        count += 1"
   ]
  },
  {
   "cell_type": "code",
   "execution_count": 6,
   "metadata": {},
   "outputs": [],
   "source": [
    "for idx in range(64):\n",
    "    #average each image over the subjects\n",
    "    img = np.zeros((714, 1360, 3))\n",
    "    stim_name = f\"{count+1:03}.jpg\"\n",
    "    for subject in range(1,numsubjects+1):\n",
    "        with h5py.File(os.path.join(nsd_root,f'nsdsynthetic_colorstimuli_subj{subject:02}.hdf5'), 'r') as file:\n",
    "            img += file['imgBrick'][idx,:,:,:]\n",
    "    img = img/numsubjects #average\n",
    "    Image.fromarray(img.astype(np.uint8)).save(os.path.join(save_root, stim_name))\n",
    "    img_cropped = img[:, start:start+714, :]  #crop to (714, 714, 3)\n",
    "    Image.fromarray(img_cropped.astype(np.uint8)).save(os.path.join(save_root_cropped, stim_name))\n",
    "    count+=1"
   ]
  },
  {
   "cell_type": "code",
   "execution_count": null,
   "metadata": {},
   "outputs": [],
   "source": []
  }
 ],
 "metadata": {
  "kernelspec": {
   "display_name": "MOSAIC",
   "language": "python",
   "name": "python3"
  },
  "language_info": {
   "codemirror_mode": {
    "name": "ipython",
    "version": 3
   },
   "file_extension": ".py",
   "mimetype": "text/x-python",
   "name": "python",
   "nbconvert_exporter": "python",
   "pygments_lexer": "ipython3",
   "version": "3.11.10"
  }
 },
 "nbformat": 4,
 "nbformat_minor": 2
}
