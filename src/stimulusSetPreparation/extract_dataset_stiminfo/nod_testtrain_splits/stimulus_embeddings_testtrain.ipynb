{
 "cells": [
  {
   "cell_type": "markdown",
   "metadata": {},
   "source": [
    "### Visualize stimulus embeddings from multiple datasets to examine their diversity/clustering and test/train differences"
   ]
  },
  {
   "cell_type": "code",
   "execution_count": 1,
   "metadata": {},
   "outputs": [],
   "source": [
    "from dotenv import load_dotenv\n",
    "load_dotenv()\n",
    "import numpy as np\n",
    "import os\n",
    "import glob\n",
    "import pandas as pd\n",
    "import umap.umap_ as umap\n",
    "import pickle\n",
    "import matplotlib.pyplot as plt\n",
    "import seaborn as sns\n",
    "from pathlib import Path\n",
    "from sklearn.preprocessing import StandardScaler"
   ]
  },
  {
   "cell_type": "code",
   "execution_count": 8,
   "metadata": {},
   "outputs": [],
   "source": [
    "#housekeeping\n",
    "dataset_root = os.path.join(os.getenv(\"DATASETS_ROOT\", \"/default/path/to/datasets\")) #use default if DATASETS_ROOT env variable is not set.\n",
    "image_embedding_model = \"dreamsim\"\n",
    "cols = ['embeddings','label','stimulus_id', 'dataset_id']\n",
    "all_data = {col: [] for col in cols}\n",
    "image_set = 'coco' #'imagenet' # either imagenet or coco\n",
    "subject = \"sub-10\" #only matters for imagenet. coco has the same split for all (1-9) subjects"
   ]
  },
  {
   "cell_type": "code",
   "execution_count": 10,
   "metadata": {},
   "outputs": [],
   "source": [
    "### load NOD data\n",
    "#load the train/test split\n",
    "\n",
    "if image_set == 'imagenet':\n",
    "    with open(os.path.join(dataset_root, \"NaturalObjectDataset\",\"derivatives\",\"stimuli_metadata\",\"testtrain_split\", f\"{subject}_imagenet_groupings_rdm.pkl\"), 'rb') as f:\n",
    "        splits = pickle.load(f)\n",
    "    all_stim = [v for _, values in splits.items() for v in values]\n",
    "elif image_set == 'coco':\n",
    "    with open(os.path.join(dataset_root, \"NaturalObjectDataset\",\"derivatives\",\"stimuli_metadata\",\"testtrain_split\", \"coco_groupings_rdm.pkl\"), 'rb') as f:\n",
    "        splits = pickle.load(f)\n",
    "    all_stim = [v for _, values in splits.items() for v in values]\n",
    "\n",
    "embedding_paths = glob.glob(os.path.join(dataset_root, \"NaturalObjectDataset\",\"derivatives\",\"stimuli_metadata\", f\"{image_embedding_model}_embeddings\",\"*.npy\"))\n",
    "for stim_embedding in embedding_paths:\n",
    "    filename = Path(stim_embedding).stem\n",
    "    stimulus_name = filename.split(f\"_model-{image_embedding_model}\")[0]\n",
    "    if stimulus_name in all_stim:\n",
    "        all_data['dataset_id'].append(f\"NOD-{image_set}\") #continue\n",
    "    else:\n",
    "        continue #all_data['dataset_id'].append(\"NOD-coco\")\n",
    "    all_data['embeddings'].append(np.load(stim_embedding))\n",
    "    all_data['stimulus_id'].append(stimulus_name)\n",
    "    \n",
    "    if stimulus_name in splits['group_01']:\n",
    "        all_data['label'].append('training')\n",
    "    elif stimulus_name in splits['group_02']:\n",
    "        all_data['label'].append('testing') \n",
    "\n"
   ]
  },
  {
   "cell_type": "code",
   "execution_count": null,
   "metadata": {},
   "outputs": [],
   "source": [
    "df = pd.DataFrame(all_data)\n",
    "X = np.vstack(df['embeddings'].to_numpy())\n",
    "print(X.shape)"
   ]
  },
  {
   "cell_type": "code",
   "execution_count": 12,
   "metadata": {},
   "outputs": [],
   "source": [
    "X_scaled = StandardScaler().fit_transform(X)"
   ]
  },
  {
   "cell_type": "code",
   "execution_count": null,
   "metadata": {},
   "outputs": [],
   "source": [
    "# Perform UMAP dimensionality reduction\n",
    "reducer = umap.UMAP(n_neighbors=15, min_dist=0.1, n_components=2, random_state=42)\n",
    "embedding = reducer.fit_transform(X_scaled)"
   ]
  },
  {
   "cell_type": "code",
   "execution_count": null,
   "metadata": {},
   "outputs": [],
   "source": [
    "# Add UMAP projections to DataFrame\n",
    "df['UMAP1'] = embedding[:, 0]\n",
    "df['UMAP2'] = embedding[:, 1]\n",
    "\n",
    "# Plotting\n",
    "plt.figure(figsize=(10, 8))\n",
    "#sns.scatterplot(data=df, x='UMAP1', y='UMAP2', hue='dataset_id', style='label', palette='tab10', s=10, alpha=0.6)\n",
    "sns.scatterplot(data=df, x='UMAP1', y='UMAP2', hue='label', palette='tab10', s=10, alpha=0.6)\n",
    "if image_set == 'imagenet':\n",
    "    plt.title(f'UMAP Projection for {image_set} {subject}')\n",
    "elif image_set == 'coco':\n",
    "    plt.title(f'UMAP Projection for {image_set} all subjects')\n",
    "plt.show()"
   ]
  }
 ],
 "metadata": {
  "kernelspec": {
   "display_name": "NeuroAI",
   "language": "python",
   "name": "python3"
  },
  "language_info": {
   "codemirror_mode": {
    "name": "ipython",
    "version": 3
   },
   "file_extension": ".py",
   "mimetype": "text/x-python",
   "name": "python",
   "nbconvert_exporter": "python",
   "pygments_lexer": "ipython3",
   "version": "3.10.13"
  }
 },
 "nbformat": 4,
 "nbformat_minor": 2
}
