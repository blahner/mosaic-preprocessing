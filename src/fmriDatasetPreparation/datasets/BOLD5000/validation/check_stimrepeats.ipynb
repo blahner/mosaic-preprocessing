{
 "cells": [
  {
   "cell_type": "code",
   "execution_count": null,
   "metadata": {},
   "outputs": [],
   "source": [
    "from dotenv import load_dotenv\n",
    "load_dotenv()\n",
    "import os\n",
    "import sys\n",
    "sys.path.append(os.getenv('PYTHONPATH')) \n",
    "import numpy as np\n",
    "import pandas as pd\n",
    "import pandas as pd\n",
    "import glob as glob"
   ]
  },
  {
   "cell_type": "code",
   "execution_count": null,
   "metadata": {},
   "outputs": [],
   "source": [
    "datasets_root = os.path.join(os.getenv(\"DATASETS_ROOT\", \"/default/path/to/datasets\"), \"MOSAIC\")\n",
    "print(f\"datasets_root: {datasets_root}\")\n",
    "\n",
    "events_root = os.path.join(datasets_root, \"BOLD5000\", \"Nifti\")"
   ]
  },
  {
   "cell_type": "code",
   "execution_count": 27,
   "metadata": {},
   "outputs": [],
   "source": [
    "subject = \"sub-CSI3\"\n",
    "stim_to_find = \"n02808304_3656.JPEG\""
   ]
  },
  {
   "cell_type": "code",
   "execution_count": 28,
   "metadata": {},
   "outputs": [
    {
     "name": "stdout",
     "output_type": "stream",
     "text": [
      "Found n02808304_3656.JPEG in sub-CSI3 ses-02 run 02\n",
      "Found n02808304_3656.JPEG in sub-CSI3 ses-03 run 08\n",
      "Found n02808304_3656.JPEG in sub-CSI3 ses-05 run 01\n",
      "Found n02808304_3656.JPEG in sub-CSI3 ses-07 run 07\n",
      "Found n02808304_3656.JPEG in sub-CSI3 ses-14 run 08\n"
     ]
    }
   ],
   "source": [
    "for s in range(1,16):\n",
    "    session = f\"ses-{s:02}\"\n",
    "    numruns = len(glob.glob(os.path.join(events_root, subject, session, \"func\", \"*_task-5000scenes_*_events.tsv\")))\n",
    "    for r in range(1,numruns+1):\n",
    "        tmp = pd.read_table(os.path.join(events_root, subject, session, \"func\", f\"{subject}_{session}_task-5000scenes_run-{r:02}_events.tsv\"))\n",
    "        stim_in_run = list(tmp.loc[:,'stim_file']) #beware that the list() shuffles the order\n",
    "        if stim_to_find in stim_in_run:\n",
    "            print(f\"Found {stim_to_find} in {subject} {session} run {r:02}\")\n"
   ]
  },
  {
   "cell_type": "code",
   "execution_count": 2,
   "metadata": {},
   "outputs": [],
   "source": [
    "dataset_root = \"/data/vision/oliva/scratch/datasets/BOLD5000\"\n",
    "test_stimuli_v1 = pd.read_csv(os.path.join(dataset_root, \"derivatives\", \"stimuli_metadata\", \"test_set.csv\"), header=None).values.flatten().tolist()\n"
   ]
  },
  {
   "cell_type": "code",
   "execution_count": 4,
   "metadata": {},
   "outputs": [],
   "source": [
    "test_stimuli_v2 = pd.read_csv(os.path.join(dataset_root, \"derivatives\", \"stimuli_metadata\", \"Scene_Stimuli\", \"repeated_stimuli_113_list.txt\"), header=None).values.flatten().tolist()"
   ]
  },
  {
   "cell_type": "code",
   "execution_count": 7,
   "metadata": {},
   "outputs": [
    {
     "data": {
      "text/plain": [
       "113"
      ]
     },
     "execution_count": 7,
     "metadata": {},
     "output_type": "execute_result"
    }
   ],
   "source": [
    "len(set(test_stimuli_v1) & set(test_stimuli_v2))"
   ]
  }
 ],
 "metadata": {
  "kernelspec": {
   "display_name": "NeuroAI",
   "language": "python",
   "name": "python3"
  },
  "language_info": {
   "codemirror_mode": {
    "name": "ipython",
    "version": 3
   },
   "file_extension": ".py",
   "mimetype": "text/x-python",
   "name": "python",
   "nbconvert_exporter": "python",
   "pygments_lexer": "ipython3",
   "version": "3.10.13"
  }
 },
 "nbformat": 4,
 "nbformat_minor": 2
}
