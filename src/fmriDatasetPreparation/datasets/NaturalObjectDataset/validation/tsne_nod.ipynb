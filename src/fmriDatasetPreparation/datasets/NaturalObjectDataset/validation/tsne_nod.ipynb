{
 "cells": [
  {
   "cell_type": "code",
   "execution_count": null,
   "metadata": {},
   "outputs": [],
   "source": [
    "import numpy as np\n",
    "import pickle\n",
    "import os\n",
    "from scipy.spatial.distance import squareform\n",
    "from sklearn.manifold import TSNE\n",
    "import matplotlib.pyplot as plt\n",
    "import seaborn as sns\n",
    "from sklearn.manifold import MDS\n",
    "import pandas as pd\n",
    "from PIL import Image\n",
    "from scipy.spatial.distance import pdist\n",
    "from tqdm import tqdm\n",
    "import glob as glob\n",
    "import argparse\n",
    "from scipy.stats import pearsonr\n",
    "import hcp_utils as hcp\n",
    "from pathlib import Path"
   ]
  },
  {
   "cell_type": "code",
   "execution_count": null,
   "metadata": {},
   "outputs": [],
   "source": [
    "def mds(utv, pos=None, n_jobs=1, n_components=2):\n",
    "    #this function copied from NSD code\n",
    "    \"\"\" pos = mds(utv)\n",
    "\n",
    "    mds computes the multi-dimensional scaling solution on a \n",
    "    two dimensional plane, for a representational dissimilarity matrix.\n",
    "\n",
    "    Args:\n",
    "\n",
    "        utv (array): 1D upper (or lower) triangular part of an RDM\n",
    "\n",
    "        pos (array, optional): set of 2D coordinates to initialise the MDS\n",
    "                            with. Defaults to None.\n",
    "\n",
    "        n_jobs (int, optional): number of cores to distribute to.\n",
    "                            Defaults to 1.\n",
    "\n",
    "    Returns:\n",
    "\n",
    "        [array]: 2D aray of x and y coordinates.\n",
    "\n",
    "    \"\"\"\n",
    "\n",
    "    rdm = squareform(utv)\n",
    "    seed = np.random.RandomState(seed=3)\n",
    "    mds = MDS(\n",
    "        n_components=n_components,\n",
    "        max_iter=100,\n",
    "        random_state=seed,\n",
    "        dissimilarity=\"precomputed\",\n",
    "        n_jobs=n_jobs\n",
    "    )\n",
    "    pos = mds.fit_transform(rdm, init=pos)\n",
    "\n",
    "    return pos"
   ]
  },
  {
   "cell_type": "code",
   "execution_count": null,
   "metadata": {},
   "outputs": [],
   "source": [
    "def create_rdm(X: np.ndarray, method: str = 'pearson'):\n",
    "    #fills in complete matrix\n",
    "    #X is shape numstim x numvertices (i.e., features)\n",
    "    numstim = X.shape[0]\n",
    "    rdm = np.zeros((numstim,numstim))\n",
    "    for i in range(numstim):\n",
    "        for j in range(numstim):\n",
    "            if method == 'pearson':\n",
    "                rdm[i,j] = 1-pearsonr(X[i,:], X[j,:])[0]\n",
    "    \n",
    "    return rdm"
   ]
  },
  {
   "cell_type": "code",
   "execution_count": null,
   "metadata": {},
   "outputs": [],
   "source": [
    "class arguments:\n",
    "    def __init__(self) -> None:\n",
    "        self.subject = '1' \n",
    "        self.dataset_root = \"/data/vision/oliva/scratch/datasets/NaturalObjectDataset\"\n",
    "        self.project_root = \"/data/vision/oliva/blahner/projects/SheenBrain/fmriDatasetPreparation/NaturalObjectDataset/validation\"\n",
    "        self.task = 'imagenet'\n",
    "        self.image_plot = True #plot video frames on top tsne results\n",
    "        self.n_components = 2\n",
    "        self.perplexity = 30\n",
    "        self.verbose = True\n",
    "\n",
    "args = arguments()\n",
    "subject = f\"sub-{int(args.subject):02}\"\n",
    "session = \"ses-imagenet01\"\n",
    "hcp_roilist = list(hcp.mmp.labels.values())\n",
    "ROI = \"L_MT\" # ['LO1', 'LO2', 'PHA1', 'PHA2', 'MT']\n",
    "\n",
    "save_root = os.path.join(args.project_root, \"output_tsne\")\n",
    "if not os.path.exists(save_root):\n",
    "    os.makedirs(save_root)"
   ]
  },
  {
   "cell_type": "code",
   "execution_count": null,
   "metadata": {},
   "outputs": [],
   "source": [
    "#load fMRI data from that subject and ROI\n",
    "fmri_data_wb = np.load(os.path.join(args.dataset_root, \"derivatives\", \"GLM\", subject, session, f\"{subject}_organized_betas.npy\")) #shape numstim, numreps, numvertices\n",
    "roi_indices = np.where(hcp.mmp.map_all == hcp_roilist.index(ROI))[0] \n",
    "fmri_data_roi = np.mean(fmri_data_wb[:,:,roi_indices],axis=1) #average over reps\n",
    "\n",
    "with open(os.path.join(args.dataset_root, \"derivatives\", \"GLM\", subject, session, f\"{subject}_{session}_task-{args.task}_conditionOrderDM.pkl\"), 'rb') as f:\n",
    "    events_run, ses_conds = pickle.load(f)"
   ]
  },
  {
   "cell_type": "code",
   "execution_count": null,
   "metadata": {},
   "outputs": [],
   "source": [
    "#compute ROI RDM\n",
    "rdm_flat = pdist(fmri_data_roi, metric='correlation')\n",
    "rdm = squareform(rdm_flat)\n",
    "print(rdm.shape)\n",
    "plt.imshow(rdm)"
   ]
  },
  {
   "cell_type": "code",
   "execution_count": null,
   "metadata": {},
   "outputs": [],
   "source": [
    "#compute MDS\n",
    "Y_mds = mds(squareform(rdm), n_components=args.n_components)\n",
    "\n",
    "tsne = TSNE(n_components=args.n_components, metric='precomputed', init=Y_mds, random_state=42, perplexity=args.perplexity, n_jobs=1)\n",
    "X_tsne = tsne.fit_transform(rdm)\n",
    "print(\"divergence: \", tsne.kl_divergence_)"
   ]
  },
  {
   "cell_type": "code",
   "execution_count": null,
   "metadata": {},
   "outputs": [],
   "source": [
    "#organize data into a pandas dataframe for much easier and more flexible plotting\n",
    "cols = ['stimIDX'] #option to add columns for metadata labels, like face or no face, indoor vs outdoor, people vs no people\n",
    "cols.extend([\"tsne{}\".format(n+1) for n in range(args.n_components)])\n",
    "data_plot = {c: [] for c in cols}\n",
    "for count, i in enumerate(ses_conds):\n",
    "    stimIDX = i #f\"stimIDX{count+1:05}\"\n",
    "    for r in range(args.n_components):\n",
    "        data_plot['tsne{}'.format(str(r+1))].append(X_tsne[count, r])\n",
    "    data_plot['stimIDX'].append(stimIDX)\n",
    "\n",
    "df = pd.DataFrame(data_plot)\n",
    "# no hue\n",
    "sns.scatterplot(x = \"tsne1\", y = \"tsne2\", data = df)\n",
    "plt.savefig(os.path.join(save_root, f\"{subject}_ROI-{ROI}_tsne_dots.png\"))\n",
    "plt.show()\n",
    "plt.clf()"
   ]
  },
  {
   "cell_type": "code",
   "execution_count": null,
   "metadata": {},
   "outputs": [],
   "source": [
    "#not setup for 3D plots\n",
    "fig, ax = plt.subplots()\n",
    "# Get the center coordinates of the plot\n",
    "x_center = 250 #ax.get_xlim()[1] / 2\n",
    "y_center = 250 #ax.get_ylim()[1] / 2\n",
    "stretch = np.floor(500 / (np.abs(np.max(X_tsne.ravel())) + np.abs(np.min(X_tsne.ravel()))))\n",
    "print(\"stretch:\", stretch)\n",
    "scaler = 0.04\n",
    "for i, pat in enumerate(X_tsne):\n",
    "    image_filename = ses_conds[i]\n",
    "    dset, nfold, fname = image_filename.split('/') \n",
    "\n",
    "    image_path = os.path.join(args.dataset_root, \"Nifti\", \"stimuli\", args.task, nfold, fname)\n",
    "    total_frames = len(list(Path(image_path).glob('*')))\n",
    "\n",
    "    x, y = pat\n",
    "    x_new = x_center + x*stretch\n",
    "    y_new = y_center + y*stretch\n",
    "    # plot middle frame \n",
    "    stimIDX = f\"stimIDX{i+1:05}\"\n",
    "    img = np.array(Image.open(os.path.join(image_path))).astype(np.float64) /255 #.astype('uint8')\n",
    "    ax.imshow(img, extent=[x_new, x_new+scaler*img.shape[1], y_new, y_new+scaler*img.shape[0]])\n",
    "ax.set_xlim(0, 500)\n",
    "ax.set_ylim(0, 500)\n",
    "ax.set_aspect('equal')\n",
    "ax.set_axis_off()\n",
    "plt.savefig(os.path.join(save_root, f\"{subject}_ROI-{ROI}_tsne_plotframes.png\"), dpi=300)\n",
    "plt.show()\n",
    "plt.clf()"
   ]
  }
 ],
 "metadata": {
  "kernelspec": {
   "display_name": "NeuroAI",
   "language": "python",
   "name": "python3"
  },
  "language_info": {
   "name": "python",
   "version": "3.10.13"
  }
 },
 "nbformat": 4,
 "nbformat_minor": 2
}
