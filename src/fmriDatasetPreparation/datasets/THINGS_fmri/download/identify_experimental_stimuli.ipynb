{
 "cells": [
  {
   "cell_type": "code",
   "execution_count": 1,
   "metadata": {},
   "outputs": [],
   "source": [
    "from dotenv import load_dotenv\n",
    "load_dotenv()\n",
    "import numpy as np\n",
    "import pandas as pd\n",
    "import os\n",
    "import glob\n",
    "import shutil"
   ]
  },
  {
   "cell_type": "markdown",
   "metadata": {},
   "source": [
    "### copy the images from the THINGS database that were used in the fmri experiment (8740 of them) into its own directory."
   ]
  },
  {
   "cell_type": "code",
   "execution_count": 2,
   "metadata": {},
   "outputs": [],
   "source": [
    "dataset_root = os.path.join(os.getenv(\"DATASETS_ROOT\", \"/default/path/to/datasets\"),\"THINGS_fmri\") #use default if DATASETS_ROOT env variable is not set.\n",
    "save_root = os.path.join(dataset_root, \"derivatives\", \"stimuli_metadata\", \"experimental_images\")\n",
    "if not os.path.exists(save_root):\n",
    "    os.makedirs(save_root)"
   ]
  },
  {
   "cell_type": "code",
   "execution_count": 12,
   "metadata": {},
   "outputs": [],
   "source": [
    "def split_filename(filename):\n",
    "    # Remove the file extension\n",
    "    base_name = os.path.splitext(filename)[0]\n",
    "    \n",
    "    # Split based on underscores\n",
    "    parts = base_name.split('_')\n",
    "    \n",
    "    if len(parts) > 1:\n",
    "        # Return everything except the last part\n",
    "        return '_'.join(parts[:-1])\n",
    "    else:\n",
    "        # If there's no underscore or only one part, return the base name\n",
    "        return base_name"
   ]
  },
  {
   "cell_type": "code",
   "execution_count": null,
   "metadata": {},
   "outputs": [],
   "source": [
    "experimental_images = set()\n",
    "for subject in ['01','02','03']:\n",
    "    fmri_path = os.path.join(dataset_root,\"derivatives\", \"GLM\")\n",
    "    task = 'things' \n",
    "    subject = f\"sub-{int(subject):02}\"\n",
    "    session_paths = glob.glob(os.path.join(fmri_path, subject, f'ses-{task}*'))\n",
    "    assert(len(session_paths) > 0)\n",
    "    numsessions = len(session_paths)\n",
    "\n",
    "    train_stimuli = []\n",
    "    test_stimuli = []\n",
    "\n",
    "    for ses in range(1,numsessions+1):\n",
    "        session = f\"ses-{task}{ses:02}\"\n",
    "        numruns = len(glob.glob(os.path.join(dataset_root, \"derivatives\", \"fmriprep\", subject, session, \"func\", f\"{subject}_{session}_task-{task}_run-*_desc-confounds_timeseries.tsv\"))) \n",
    "        for run in range(1,numruns+1):\n",
    "            tmp = pd.read_table(os.path.join(dataset_root, \"Nifti\", subject, session, \"func\", f\"{subject}_{session}_task-{task}_run-{run:02}_events.tsv\"))\n",
    "            for idx, img_path in enumerate(tmp.loc[:,'file_path']):\n",
    "                if 'catch' in img_path:\n",
    "                    continue\n",
    "                filename = img_path.split('/')[-1]\n",
    "                folder = split_filename(filename) #there seems to be an error where the img_filename 'coat/coat_rack_13s.jpg' doesnt exist. It should be 'coat_rack/coat_rack_13s.jpg'. The folder 'coat' exists too.\n",
    "                if filename not in experimental_images:\n",
    "                    experimental_images.add(filename)\n",
    "                    if not os.path.isfile(os.path.join(save_root, filename)):\n",
    "                        shutil.copy(os.path.join(dataset_root, \"derivatives\", \"stimuli_metadata\", \"images\", folder, filename), save_root)\n",
    "    "
   ]
  },
  {
   "cell_type": "code",
   "execution_count": null,
   "metadata": {},
   "outputs": [],
   "source": []
  }
 ],
 "metadata": {
  "kernelspec": {
   "display_name": "NeuroAI",
   "language": "python",
   "name": "python3"
  },
  "language_info": {
   "codemirror_mode": {
    "name": "ipython",
    "version": 3
   },
   "file_extension": ".py",
   "mimetype": "text/x-python",
   "name": "python",
   "nbconvert_exporter": "python",
   "pygments_lexer": "ipython3",
   "version": "3.10.13"
  }
 },
 "nbformat": 4,
 "nbformat_minor": 2
}
