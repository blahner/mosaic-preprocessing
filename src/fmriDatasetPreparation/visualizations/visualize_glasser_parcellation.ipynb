{
 "cells": [
  {
   "cell_type": "code",
   "execution_count": null,
   "metadata": {},
   "outputs": [],
   "source": [
    "from dotenv import load_dotenv\n",
    "load_dotenv()\n",
    "import os\n",
    "import sys\n",
    "sys.path.append(os.getenv('PYTHONPATH')) \n",
    "import numpy as np\n",
    "import matplotlib.pyplot as plt\n",
    "import hcp_utils as hcp\n",
    "import matplotlib.pyplot as plt\n",
    "from nilearn import plotting\n",
    "from matplotlib.colors import ListedColormap\n",
    "\n",
    "#local\n",
    "from src.utils.transforms import SelectROIs"
   ]
  },
  {
   "cell_type": "code",
   "execution_count": null,
   "metadata": {},
   "outputs": [],
   "source": [
    "root = os.path.join(os.getenv(\"DATASETS_ROOT\"), \"MOSAIC\")\n",
    "project_root = os.path.join(os.getenv(\"PROJECT_ROOT\"))\n",
    "print(f\"root: {root}\")\n",
    "print(f\"project_root: {project_root}\")\n",
    "save_root = os.path.join(project_root, \"src\", \"fmriDatasetPreparation\", \"visualizations\", \"output\")\n",
    "if not os.path.exists(save_root):\n",
    "    os.makedirs(save_root)"
   ]
  },
  {
   "cell_type": "code",
   "execution_count": null,
   "metadata": {},
   "outputs": [],
   "source": [
    "rois = [f\"GlasserGroup_{x}\" for x in range(1,23)] #[\"GlasserGroup_1\", \"GlasserGroup_2\", \"GlasserGroup_3\",\"GlasserGroup_4\", \"GlasserGroup_5\"] #[\"LO1\",\"LO2\"] #[\"V1\"]\n",
    "ROI_selection = SelectROIs(selected_rois=rois, remove_nan_vertices=False)"
   ]
  },
  {
   "cell_type": "code",
   "execution_count": null,
   "metadata": {},
   "outputs": [],
   "source": [
    "            \n",
    "ext_list = ['png'] #,'svg'] #only matters if save_flag is True \n",
    "save_flag=False\n",
    "\n",
    "##label each vertex according to the one of 22 glasser groups it belongs to\n",
    "stat_groups = [0] * 91282 \n",
    "for vertex_id, group_name in ROI_selection.index_to_group.items():\n",
    "    stat_groups[vertex_id] = int(group_name.split('_')[-1]) #just get the group number 1-22\n",
    "\n",
    "#label each vertex according its roi index 1-180\n",
    "stat_rois = hcp.mmp.map_all\n",
    "\n",
    "#make colormaps\n",
    "colors_groups = ((167/255, 167/255, 167/255),) + plt.colormaps['Set3'].colors + plt.colormaps['tab10'].colors #23 total colors\n",
    "cmap_groups = ListedColormap(colors_groups)\n",
    "\n",
    "#get group level colormap for left hemishphere\n",
    "cortex_data_groups_left = hcp.left_cortex_data(stat_groups)\n",
    "cortex_data_groups_right = hcp.right_cortex_data(stat_groups)\n",
    "\n",
    "ids_left = np.unique(cortex_data_groups_left).astype(int)\n",
    "ids_right = np.unique(cortex_data_groups_right).astype(int)\n",
    "\n",
    "rgba_groups_left = np.zeros((len(ids_left), 4))\n",
    "for i in range(len(ids_left)):\n",
    "    ind = cortex_data_groups_left==ids_left[i]\n",
    "    rgba_groups_left[i,:] = colors_groups[ids_left[i]] + (1,) #adds an alpha channel\n",
    "\n",
    "rgba_groups_right = np.zeros((len(ids_right), 4))\n",
    "for i in range(len(ids_right)):\n",
    "    ind = cortex_data_groups_right==ids_right[i]\n",
    "    rgba_groups_right[i,:] = colors_groups[ids_right[i]] + (1,) #adds an alpha channel\n",
    "\n",
    "cortex_data_rois_left = hcp.left_cortex_data(stat_rois)\n",
    "cortex_data_rois_right = hcp.right_cortex_data(stat_rois)\n",
    "\n",
    "nrois_left = len(set(cortex_data_rois_left))\n",
    "nrois_right = len(set(cortex_data_rois_right))\n",
    "\n",
    "#create a figure with multiple axes to plot each anatomical image\n",
    "fig, axes = plt.subplots(nrows=1, ncols=2, figsize=(10, 4), subplot_kw={'projection': '3d'})\n",
    "plt.subplots_adjust(wspace=0)\n",
    "im = plotting.plot_surf_roi(hcp.mesh.flat_left, cortex_data_groups_left, symmetric_cmap=False, cmap=cmap_groups,axes=axes[0])\n",
    "#add the left hemi contours\n",
    "plotting.plot_surf_contours(hcp.mesh.flat_left, cortex_data_rois_left, colors=[(0,0,0,1)]*nrois_left,axes=axes[0])\n",
    "\n",
    "im = plotting.plot_surf_roi(hcp.mesh.flat_right, cortex_data_groups_right, symmetric_cmap=False, cmap=cmap_groups,axes=axes[1])\n",
    "#add the right hemi contours\n",
    "#plotting.plot_surf_contours(hcp.mesh.flat_right, cortex_data_rois_right, colors=[(0,0,0,1)]*nrois_right,axes=axes[1])\n",
    "\n",
    "#flip along the horizontal\n",
    "axes[0].invert_yaxis()\n",
    "axes[1].invert_yaxis()\n",
    "\n",
    "if save_flag:\n",
    "    for ext in ext_list:\n",
    "        if ext == 'png':\n",
    "            plt.savefig(os.path.join(save_root, f\"fsLR32k_MMP_parcellation_mesh-flat.{ext}\"),dpi=300)\n",
    "        else:\n",
    "            plt.savefig(os.path.join(save_root, f\"fsLR32k_MMP_parcellation_mesh-flat.{ext}\"))\n",
    "plt.show()"
   ]
  },
  {
   "cell_type": "code",
   "execution_count": null,
   "metadata": {},
   "outputs": [],
   "source": []
  }
 ],
 "metadata": {
  "kernelspec": {
   "display_name": "MOSAIC",
   "language": "python",
   "name": "python3"
  },
  "language_info": {
   "codemirror_mode": {
    "name": "ipython",
    "version": 3
   },
   "file_extension": ".py",
   "mimetype": "text/x-python",
   "name": "python",
   "nbconvert_exporter": "python",
   "pygments_lexer": "ipython3",
   "version": "3.11.10"
  }
 },
 "nbformat": 4,
 "nbformat_minor": 2
}
