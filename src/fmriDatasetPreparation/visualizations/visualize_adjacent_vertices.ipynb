{
 "cells": [
  {
   "cell_type": "code",
   "execution_count": null,
   "metadata": {},
   "outputs": [],
   "source": [
    "from dotenv import load_dotenv\n",
    "load_dotenv()\n",
    "import os\n",
    "import numpy as np\n",
    "import matplotlib.pyplot as plt\n",
    "import sys\n",
    "import pickle\n",
    "sys.path.append(os.getenv('PYTHONPATH')) \n",
    "import hcp_utils as hcp\n",
    "from hcp_utils import parcellation_labels, view_parcellation\n",
    "import matplotlib.pyplot as plt\n",
    "from nilearn import plotting\n",
    "\n",
    "#local\n",
    "from src.utils.transforms import SelectROIs\n",
    "from src.utils.helpers import get_fsLR32k_adjacency_matrix\n"
   ]
  },
  {
   "cell_type": "code",
   "execution_count": null,
   "metadata": {},
   "outputs": [],
   "source": [
    "dataset_root = os.path.join(os.getenv('DATASETS_ROOT'), \"MOSAIC\")"
   ]
  },
  {
   "cell_type": "code",
   "execution_count": null,
   "metadata": {},
   "outputs": [],
   "source": [
    "radius = 4\n",
    "#load the whole brain adjacency dict for a desired radius. Note that this adjacency dict is not influenced by ROI selection or nan indices.\n",
    "adjacency_filename = os.path.join(dataset_root, \"decoding_artifacts\",f\"fsLR32k_adjacency_matrix_radius-{radius}.pkl\")\n",
    "if os.path.isfile(adjacency_filename):\n",
    "    print(f\"Adjacency dictionary of radius {radius} found. Loading...\")\n",
    "    with open(adjacency_filename, 'rb') as f:\n",
    "        wb_adjacency_dict = pickle.load(f)\n",
    "else:\n",
    "    print(f\"Creating adjacency dictionary with vertices of radius {radius}\")\n",
    "    wb_adjacency_dict = get_fsLR32k_adjacency_matrix(radius, save_flag=True)"
   ]
  },
  {
   "cell_type": "code",
   "execution_count": null,
   "metadata": {},
   "outputs": [],
   "source": [
    "roi_indices = SelectROIs(selected_rois=[\"LO1\"]).selected_roi_indices\n",
    "vertex = roi_indices[0]\n",
    "adjacent_vertices = wb_adjacency_dict[vertex]\n",
    "print(adjacent_vertices)\n",
    "stat=np.zeros((91282,))\n",
    "stat[adjacent_vertices] = 2\n",
    "stat[vertex] = 100 #center vertex"
   ]
  },
  {
   "cell_type": "code",
   "execution_count": null,
   "metadata": {},
   "outputs": [],
   "source": [
    "\"\"\"\n",
    "roi_indices = SelectROIs(selected_rois=[\"OFC\"]).selected_roi_indices\n",
    "not_real_adj = hcp.cortical_adjacency[roi_indices,:] \n",
    "adjacent_indices = np.argwhere(not_real_adj)[:,1]\n",
    "stat=np.ones((91282,))\n",
    "stat[adjacent_indices] = 100\n",
    "stat[roi_indices] = 50\n",
    "\"\"\""
   ]
  },
  {
   "cell_type": "code",
   "execution_count": null,
   "metadata": {},
   "outputs": [],
   "source": [
    "for hemi in ['left','right']:\n",
    "    #flattened brain\n",
    "    if hemi == 'left':\n",
    "        cortex_data = hcp.left_cortex_data(stat)\n",
    "        display = plotting.plot_surf_roi(hcp.mesh.flat_left, cortex_data,\n",
    "        threshold=1, bg_map=hcp.mesh.sulc_left, colorbar=True, cmap='hot')\n",
    "        plt.show()\n",
    "\n",
    "    if hemi == 'right':\n",
    "        cortex_data = hcp.right_cortex_data(stat)\n",
    "        display = plotting.plot_surf_roi(hcp.mesh.flat_right, cortex_data,\n",
    "        threshold=1,  bg_map=hcp.mesh.sulc_right, colorbar=True, cmap='hot')\n",
    "        plt.show()"
   ]
  },
  {
   "cell_type": "code",
   "execution_count": null,
   "metadata": {},
   "outputs": [],
   "source": [
    "view_parcellation(hcp.mesh.inflated, hcp.mmp)"
   ]
  },
  {
   "cell_type": "code",
   "execution_count": null,
   "metadata": {},
   "outputs": [],
   "source": [
    "parcellation_labels(hcp.mmp)"
   ]
  }
 ],
 "metadata": {
  "kernelspec": {
   "display_name": "SheenBrain",
   "language": "python",
   "name": "python3"
  },
  "language_info": {
   "codemirror_mode": {
    "name": "ipython",
    "version": 3
   },
   "file_extension": ".py",
   "mimetype": "text/x-python",
   "name": "python",
   "nbconvert_exporter": "python",
   "pygments_lexer": "ipython3",
   "version": "3.11.10"
  }
 },
 "nbformat": 4,
 "nbformat_minor": 2
}
