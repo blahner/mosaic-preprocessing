{
 "cells": [
  {
   "cell_type": "code",
   "execution_count": null,
   "metadata": {},
   "outputs": [],
   "source": [
    "from dotenv import load_dotenv\n",
    "load_dotenv()\n",
    "import os\n",
    "import sys\n",
    "sys.path.append(os.getenv('PYTHONPATH')) \n",
    "import numpy as np\n",
    "import h5py\n",
    "import pandas as pd\n",
    "import seaborn as sns\n",
    "import matplotlib.pyplot as plt\n",
    "\n",
    "#local\n",
    "from src.utils.transforms import SelectROIs"
   ]
  },
  {
   "cell_type": "code",
   "execution_count": null,
   "metadata": {},
   "outputs": [],
   "source": [
    "root = os.path.join(os.getenv(\"DATASETS_ROOT\", \"/default/path/to/datasets\"), \"MOSAIC\")\n",
    "project_root = os.path.join(os.getenv(\"PROJECT_ROOT\"))\n",
    "print(f\"root: {root}\")\n",
    "print(f\"project root: {project_root}\")\n",
    "config = {\n",
    "    'fmri': {\n",
    "        'rois': [f\"GlasserGroup_{x}\" for x in range(1,6)],\n",
    "    }\n",
    "}\n",
    "ROI_selection = SelectROIs(selected_rois=config['fmri']['rois'])"
   ]
  },
  {
   "cell_type": "code",
   "execution_count": null,
   "metadata": {},
   "outputs": [],
   "source": [
    "cols = ['subject', 'dataset', 'median_nc', 'mean_nc']\n",
    "print(\"loading hdf5 file...\")\n",
    "with h5py.File(os.path.join(root,'mosaic_version-1_0_0_chunks_renamed.hdf5'), 'r') as file:\n",
    "    print(f\"Keys: {file.keys()}\")\n",
    "    data = {col: [] for col in cols}\n",
    "    for subjectID in file.keys():\n",
    "        if 'noiseceilings' in file[subjectID].keys():\n",
    "            dataset = subjectID.split('_')[-1]\n",
    "            if dataset in ['THINGS', 'BOLD5000', 'GOD']:\n",
    "                task = 'test'\n",
    "            else:\n",
    "                task = 'train'\n",
    "            nc = file[subjectID]['noiseceilings'][f\"{subjectID}_phase-{task}_n-1_noiseceiling\"][ROI_selection.selected_roi_indices]/100\n",
    "            data['subject'].append(subjectID)\n",
    "            data['dataset'].append(dataset)\n",
    "            data['median_nc'].append(np.median(nc))\n",
    "            data['mean_nc'].append(np.mean(nc))\n"
   ]
  },
  {
   "cell_type": "code",
   "execution_count": null,
   "metadata": {},
   "outputs": [],
   "source": [
    "df = pd.DataFrame(data)"
   ]
  },
  {
   "cell_type": "code",
   "execution_count": null,
   "metadata": {},
   "outputs": [],
   "source": [
    "sort_col = 'mean_nc'\n",
    "df_sorted = df.sort_values(sort_col, ascending=False)\n",
    "fs = 10\n",
    "# Create the plot\n",
    "plt.figure(figsize=(15, 6))\n",
    "ax = sns.barplot(data=df_sorted, \n",
    "            x='subject', \n",
    "            y=sort_col,\n",
    "            hue='dataset',\n",
    "            dodge=False)  # dodge=False ensures bars aren't grouped by dataset\n",
    "\n",
    "# Customize the plot\n",
    "plt.xticks(rotation=45, ha='right')  # Rotate x-axis labels\n",
    "plt.ylabel(sort_col, fontsize=fs)\n",
    "plt.xlabel('SubjectID', fontsize=fs)\n",
    "plt.xticks(rotation=45, fontsize=fs)\n",
    "plt.yticks(fontsize=fs)\n",
    "sns.despine(ax=ax)\n",
    "plt.ylim([0,0.25])\n",
    "plt.tight_layout()  # Adjust layout to prevent label cutoff\n",
    "plt.savefig(os.path.join(project_root, \"src\", \"fmriDatasetPreparation\", \"process_nans\", \"output\", \"plots\", f\"dataquality_{sort_col}.svg\"))\n",
    "plt.show()"
   ]
  },
  {
   "cell_type": "code",
   "execution_count": null,
   "metadata": {},
   "outputs": [],
   "source": []
  }
 ],
 "metadata": {
  "kernelspec": {
   "display_name": "MOSAIC",
   "language": "python",
   "name": "python3"
  },
  "language_info": {
   "codemirror_mode": {
    "name": "ipython",
    "version": 3
   },
   "file_extension": ".py",
   "mimetype": "text/x-python",
   "name": "python",
   "nbconvert_exporter": "python",
   "pygments_lexer": "ipython3",
   "version": "3.11.10"
  }
 },
 "nbformat": 4,
 "nbformat_minor": 2
}
