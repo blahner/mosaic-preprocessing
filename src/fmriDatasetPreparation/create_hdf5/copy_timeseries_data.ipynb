{
 "cells": [
  {
   "cell_type": "code",
   "execution_count": 5,
   "metadata": {},
   "outputs": [],
   "source": [
    "from dotenv import load_dotenv\n",
    "load_dotenv()\n",
    "import os\n",
    "import sys\n",
    "sys.path.append(os.getenv('PYTHONPATH')) \n",
    "import shutil\n",
    "import glob as glob"
   ]
  },
  {
   "cell_type": "code",
   "execution_count": null,
   "metadata": {},
   "outputs": [],
   "source": [
    "datasets_root = os.getenv(\"DATASETS_ROOT\", \"/default/path/to/datasets\") #use default if DATASETS_ROOT env variable is not set.\n",
    "print(f\"dataset_root: {datasets_root}\")\n",
    "target_root = os.path.join(datasets_root, \"MOSAIC\")\n",
    "print(f\"target root: {target_root}\")\n",
    "save_root = os.path.join(target_root, \"timeseries\")\n",
    "if not os.path.exists(save_root):\n",
    "    os.makedirs(save_root)\n",
    "\n",
    "short_long_dataset_mapping = {'NSD': 'NaturalScenesDataset',\n",
    "                            \"BMD\": \"BOLDMomentsDataset\",\n",
    "                            \"BOLD5000\":\"BOLD5000\",\n",
    "                            \"THINGS\": \"THINGS_fmri\",\n",
    "                            \"GOD\": \"GenericObjectDecoding\",\n",
    "                            \"deeprecon\": \"deeprecon\",\n",
    "                            \"HAD\": \"HumanActionsDataset\",\n",
    "                            \"NOD\": \"NaturalObjectDataset\"}"
   ]
  },
  {
   "cell_type": "code",
   "execution_count": null,
   "metadata": {},
   "outputs": [],
   "source": [
    "for dataset in short_long_dataset_mapping.keys():\n",
    "    if dataset == \"BMD\":\n",
    "        ts_path = os.path.join(datasets_root, short_long_dataset_mapping[dataset], \"derivatives\", \"versionC\", \"temporal_filtering\")\n",
    "    else:\n",
    "        ts_path = os.path.join(datasets_root, short_long_dataset_mapping[dataset], \"derivatives\", \"temporal_filtering\")\n",
    "\n",
    "    dataset_save_root = os.path.join(save_root, short_long_dataset_mapping[dataset])\n",
    "    if os.path.exists(dataset_save_root):\n",
    "        print(f\"{dataset} timeseries data already seems to be copied. Skipping.\")\n",
    "        continue\n",
    "    print(f\"Copying {dataset} timeseries data...\")\n",
    "    shutil.copytree(ts_path, dataset_save_root, dirs_exist_ok=True)\n"
   ]
  }
 ],
 "metadata": {
  "kernelspec": {
   "display_name": "MOSAIC",
   "language": "python",
   "name": "python3"
  },
  "language_info": {
   "codemirror_mode": {
    "name": "ipython",
    "version": 3
   },
   "file_extension": ".py",
   "mimetype": "text/x-python",
   "name": "python",
   "nbconvert_exporter": "python",
   "pygments_lexer": "ipython3",
   "version": "3.11.10"
  }
 },
 "nbformat": 4,
 "nbformat_minor": 2
}
