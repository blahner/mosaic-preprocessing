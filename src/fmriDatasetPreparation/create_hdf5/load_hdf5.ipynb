{
 "cells": [
  {
   "cell_type": "markdown",
   "id": "4ce4dacb",
   "metadata": {},
   "source": [
    "Load an hdf5 file to familiarize yourself with the format"
   ]
  },
  {
   "cell_type": "code",
   "execution_count": null,
   "id": "563f3e16",
   "metadata": {},
   "outputs": [],
   "source": [
    "from dotenv import load_dotenv\n",
    "load_dotenv()\n",
    "import os\n",
    "import sys\n",
    "sys.path.append(os.getenv('PYTHONPATH'))\n",
    "import h5py"
   ]
  },
  {
   "cell_type": "code",
   "execution_count": null,
   "id": "82aef276",
   "metadata": {},
   "outputs": [],
   "source": [
    "#define path to your hdf5 file\n",
    "hdf5_root = os.path.join(os.getenv(\"DATASETS_ROOT\"), \"MOSAIC\", \"hdf5_files\", \"single_subject\")\n",
    "hdf5_filename = \"sub-01_BMD.hdf5\"\n",
    "with h5py.File(os.path.join(hdf5_root,hdf5_filename), 'r') as f:\n",
    "    print(f\"Keys: {f.keys()}\")\n",
    "    #print all top-level attributes\n",
    "    for attribute, value in f.attrs.items():\n",
    "        if isinstance(value, str):\n",
    "            print(f\"Attribute {attribute}: {value}\")\n",
    "        else:\n",
    "            print(f\"Attribute {attribute}: {type(value)}\")\n",
    "    #access a specific attribute (assuming it exists)\n",
    "    attribute_name = 'github_url'\n",
    "    if attribute_name in f.attrs:\n",
    "        print(f.attrs[attribute_name])\n",
    "\n",
    "    #print group names (e.g., betas)\n",
    "    for group in f.keys():\n",
    "        print(f\"Group: {group}\")\n",
    "\n",
    "        #in each group name print the dataset name\n",
    "        for dataset_name, value in f[group].items():\n",
    "            print(f\"Dataset Name {dataset_name}: {type(value)}\")\n",
    "            print(f\"Load full dataset values: {len(f[group][dataset_name][()])}\")\n",
    "            print(f\"Load partial dataset values: {len(f[group][dataset_name][:100])}\")\n",
    "            print(f\"Load dataset attributes: {f[group][dataset_name].attrs.keys()}\")\n",
    "            break #just show one"
   ]
  },
  {
   "cell_type": "code",
   "execution_count": null,
   "id": "f3a17428",
   "metadata": {},
   "outputs": [],
   "source": []
  }
 ],
 "metadata": {
  "kernelspec": {
   "display_name": "mosaic-preprocessing",
   "language": "python",
   "name": "python3"
  },
  "language_info": {
   "codemirror_mode": {
    "name": "ipython",
    "version": 3
   },
   "file_extension": ".py",
   "mimetype": "text/x-python",
   "name": "python",
   "nbconvert_exporter": "python",
   "pygments_lexer": "ipython3",
   "version": "3.11.13"
  }
 },
 "nbformat": 4,
 "nbformat_minor": 5
}
